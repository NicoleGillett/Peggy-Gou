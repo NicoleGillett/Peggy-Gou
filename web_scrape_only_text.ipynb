{
 "cells": [
  {
   "cell_type": "code",
   "execution_count": 28,
   "metadata": {},
   "outputs": [],
   "source": [
    "import pandas as pd\n",
    "from bs4 import BeautifulSoup\n",
    "import requests\n",
    "from collections import Counter"
   ]
  },
  {
   "cell_type": "code",
   "execution_count": 52,
   "metadata": {},
   "outputs": [],
   "source": [
    "website = requests.get('https://en.wikipedia.org/wiki/Peggy_Gou')"
   ]
  },
  {
   "cell_type": "code",
   "execution_count": 53,
   "metadata": {},
   "outputs": [],
   "source": [
    "soup = BeautifulSoup(website.content)"
   ]
  },
  {
   "cell_type": "code",
   "execution_count": 54,
   "metadata": {},
   "outputs": [],
   "source": [
    "text = [''.join(s.findAll(text=True))for s in soup.findAll('p')]"
   ]
  },
  {
   "cell_type": "code",
   "execution_count": 55,
   "metadata": {},
   "outputs": [
    {
     "name": "stdout",
     "output_type": "stream",
     "text": [
      "['\\n', 'Peggy Gou is a Berlin based South Korean DJ, record producer, and fashion designer. She has released six EPs, and music on two record labels Ninja Tune and Phonica. In 2019, she launched her own independent record label, Gudu Records.\\n', \"Peggy Gou was born in Incheon, South Korea. She began classical piano lessons at age 8.[2] At age 14, her parents sent her to London, England to study English. She moved back to Korea when she was 18 years old, but six months later she returned to London to study fashion at the London College of Fashion. After graduating, she worked as the London correspondent editor for Harper's Bazaar Korea, and then moved to Berlin, Germany.[3][4]\\n\", 'Gou was taught to DJ in 2009. In 2013, she learned to use Ableton and began to create her own tracks. Her first track, Hungboo, was completed in 2014.[5] Hungboo was named for the hero of a Korean fairy tale. She played the track in Korea for the first time at the 2016 Style Icon Awards opening show, featuring award-winning actor Yoo Ah-in in a visual art video.[6][7]\\n', 'Gou made her recording debut in January 2016 on Radio Slave\\'s Rekids label with The Art of War Part 1, featuring a remix from Galcher Lustwerk.[8] She released four EPs[9] including Seek for Maktoop, with hit track It Makes You Forget (Itgehane).[10] Maktoop was named after the Arabic word \"maktoob\", the equivalent to \"written\" or \"destiny\".[11] This was followed by EP Once in 2018, and Moment in April 2019.[12]\\n', 'In 2017, Gou embarked on her first North American tour and made a Boiler Room debut in NYC.[13] She became the first female Korean DJ to play in Berlin\\'s most exclusive nightclub Berghain. She played more than one hundred live gigs in a year and has performed alongside the likes of Moodymann, The Black Madonna and DJ Koze. She has since had gigs in the worldwide festival sets at Coachella, Glastonbury, Sonus Festival in Croatia, Amsterdam’s Dekmantel, London’s The Printworks, Ibiza, as well as Virgil Abloh\\'s Off-White fashion show among others, and created a \"Gou-mania\".[14][15][16]\\n', 'In 2018, Gou released her music on record labels Ninja Tune and Phonica.[17]\\n', 'In 2019, Forbes named Gou as one of the Asian leaders, pioneers and entrepreneurs under age 30.[18] In February 2019, Gou launched her own fashion label KIRIN (“giraffe” in Korean), supported by Virgil Abloh, under the New Guards Group.[19][20][21] The following month, she announced the launch of her own independent record label, Gudu Records (gudu means \"shoes\" in Korean).[22]\\n', \"In June 2019, Gou released the 69th installment of !K7's DJ Kicks mix compilation. In July, the album became her first Billboard chart appearance, reaching 9th in Dance/Electronic Album Sales, and the second compilation that ever got into the top 10 after Moodymann's.[23]\\n\", 'On  July 25, 2019, Gou released her first music video for her hit 2019 track Starry Night exclusively on Apple Music, directed by Jonas Lindstroem, and once again featured Yoo Ah-in, the lead actor in the award-winning South Korean film, Burning.[24][25]\\n']\n"
     ]
    }
   ],
   "source": [
    "print(text)"
   ]
  },
  {
   "cell_type": "markdown",
   "metadata": {},
   "source": [
    "Source: https://stackoverflow.com/questions/25614967/scrape-websites-and-export-only-the-visible-text-to-a-text-document-python-3-be"
   ]
  }
 ],
 "metadata": {
  "kernelspec": {
   "display_name": "Python 3",
   "language": "python",
   "name": "python3"
  },
  "language_info": {
   "codemirror_mode": {
    "name": "ipython",
    "version": 3
   },
   "file_extension": ".py",
   "mimetype": "text/x-python",
   "name": "python",
   "nbconvert_exporter": "python",
   "pygments_lexer": "ipython3",
   "version": "3.7.2"
  }
 },
 "nbformat": 4,
 "nbformat_minor": 2
}
